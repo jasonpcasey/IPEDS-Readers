{
 "cells": [
  {
   "cell_type": "markdown",
   "metadata": {},
   "source": [
    "# Setup\n",
    "\n",
    "Load libraries, set matplotlib to inline plotting, and create constants for analysis"
   ]
  },
  {
   "cell_type": "code",
   "execution_count": 1,
   "metadata": {},
   "outputs": [],
   "source": [
    "%matplotlib inline\n",
    "\n",
    "from io import BytesIO\n",
    "from zipfile import ZipFile\n",
    "from urllib.request import urlopen\n",
    "\n",
    "import pyodbc as db\n",
    "import numpy as np\n",
    "\n",
    "import pandas as pd\n",
    "from pandas import DataFrame, Series\n",
    "\n",
    "import matplotlib.pyplot as plt\n",
    "import seaborn as sns\n",
    "\n",
    "# Set options\n",
    "sns.set_style('darkgrid')\n",
    "pd.set_option(\"display.max_rows\", 10)\n",
    "\n",
    "def get_filename(file_list):\n",
    "    match = [s for s in file_list if \"_rv\" in s]\n",
    "    answer = file_list[0]\n",
    "    if len(match) > 0:\n",
    "        answer = match[0]\n",
    "    return(answer)\n",
    "\n",
    "def net_load_info(url):\n",
    "    resp = urlopen(url)\n",
    "    zipfile = ZipFile(BytesIO(resp.read()))\n",
    "    files = zipfile.namelist()\n",
    "    return(files)\n",
    "\n",
    "def net_load_data(url):\n",
    "    resp = urlopen(url)\n",
    "    zipfile = ZipFile(BytesIO(resp.read()))\n",
    "    file_name = get_filename(zipfile.namelist())\n",
    "    data_file = zipfile.open(file_name)\n",
    "    answer = pd.read_csv(data_file,\n",
    "                         low_memory = False,\n",
    "                         encoding = \"iso-8859-1\")\n",
    "    \n",
    "    return(answer)\n",
    "\n",
    "def fix_cols(dat):\n",
    "    for col in dat:\n",
    "        col = col.lower()\n",
    "        dat[col] = pd.to_numeric(dat[col], errors = \"coerce\", downcast = \"integer\")\n",
    "    return(dat)\n",
    "\n",
    "def read_file(year, keepers):\n",
    "    file_spec = np.where(year < 2014, \"ic\" + str(year) + \".zip\", \"adm\" + str(year) + \".zip\")\n",
    "    answer = net_load_data(\"https://nces.ed.gov/ipeds/datacenter/data/\" + str(file_spec))\n",
    "    answer.columns = [colname.lower() for colname in list(answer.columns.values)]\n",
    "    answer = fix_cols(answer)\n",
    "    answer[\"institution_key\"] = answer[\"unitid\"]\n",
    "    answer[\"date_key\"] = (year * 10000) + 1015\n",
    "    answer = answer[keepers]\n",
    "    return(answer)\n",
    "\n",
    "# constants\n",
    "start_year = 2007\n",
    "end_year = 2017\n",
    "\n",
    "years = [i for i in range(start_year, end_year + 1)]\n",
    "\n",
    "# key columns\n",
    "indices = [\"institution_key\", \"date_key\"]\n",
    "\n",
    "# value columns\n",
    "cols = [\"applcn\", \"applcnm\", \"applcnw\", \"admssn\", \"admssnm\", \"admssnw\",\n",
    "        \"enrlt\", \"enrlm\", \"enrlw\"]"
   ]
  },
  {
   "cell_type": "markdown",
   "metadata": {},
   "source": [
    "# Read Data\n",
    "\n",
    "Read data file from NCES website for each year selected, set column names to lower case for sanity, reduce to needed columns, and fill NaN with zero.  Show data frame shape (to"
   ]
  },
  {
   "cell_type": "code",
   "execution_count": 2,
   "metadata": {},
   "outputs": [
    {
     "data": {
      "text/plain": [
       "(59886, 11)"
      ]
     },
     "execution_count": 2,
     "metadata": {},
     "output_type": "execute_result"
    }
   ],
   "source": [
    "df = DataFrame()\n",
    "\n",
    "for year in years:\n",
    "    temp = read_file(year, indices + cols)\n",
    "    temp = fix_cols(temp)\n",
    "    df = pd.concat([df, temp],\n",
    "                   sort = True)\n",
    "    temp = None\n",
    "\n",
    "# replace NaN\n",
    "df = df.fillna(0)\n",
    "\n",
    "df.shape"
   ]
  },
  {
   "cell_type": "markdown",
   "metadata": {},
   "source": [
    "# Look At Summaries"
   ]
  },
  {
   "cell_type": "code",
   "execution_count": 3,
   "metadata": {},
   "outputs": [
    {
     "name": "stdout",
     "output_type": "stream",
     "text": [
      "<class 'pandas.core.frame.DataFrame'>\n",
      "Int64Index: 59886 entries, 0 to 2074\n",
      "Data columns (total 11 columns):\n",
      "admssn             59886 non-null float64\n",
      "admssnm            59886 non-null float64\n",
      "admssnw            59886 non-null float64\n",
      "applcn             59886 non-null float64\n",
      "applcnm            59886 non-null float64\n",
      "applcnw            59886 non-null float64\n",
      "date_key           59886 non-null int32\n",
      "enrlm              59886 non-null float64\n",
      "enrlt              59886 non-null float64\n",
      "enrlw              59886 non-null float64\n",
      "institution_key    59886 non-null int32\n",
      "dtypes: float64(9), int32(2)\n",
      "memory usage: 5.0 MB\n"
     ]
    }
   ],
   "source": [
    "df.info()"
   ]
  },
  {
   "cell_type": "markdown",
   "metadata": {},
   "source": [
    "# Look at First and Last Cases"
   ]
  },
  {
   "cell_type": "code",
   "execution_count": 4,
   "metadata": {},
   "outputs": [
    {
     "data": {
      "text/html": [
       "<div>\n",
       "<style scoped>\n",
       "    .dataframe tbody tr th:only-of-type {\n",
       "        vertical-align: middle;\n",
       "    }\n",
       "\n",
       "    .dataframe tbody tr th {\n",
       "        vertical-align: top;\n",
       "    }\n",
       "\n",
       "    .dataframe thead th {\n",
       "        text-align: right;\n",
       "    }\n",
       "</style>\n",
       "<table border=\"1\" class=\"dataframe\">\n",
       "  <thead>\n",
       "    <tr style=\"text-align: right;\">\n",
       "      <th></th>\n",
       "      <th>admssn</th>\n",
       "      <th>admssnm</th>\n",
       "      <th>admssnw</th>\n",
       "      <th>applcn</th>\n",
       "      <th>applcnm</th>\n",
       "      <th>applcnw</th>\n",
       "      <th>date_key</th>\n",
       "      <th>enrlm</th>\n",
       "      <th>enrlt</th>\n",
       "      <th>enrlw</th>\n",
       "      <th>institution_key</th>\n",
       "    </tr>\n",
       "  </thead>\n",
       "  <tbody>\n",
       "    <tr>\n",
       "      <th>0</th>\n",
       "      <td>0.0</td>\n",
       "      <td>0.0</td>\n",
       "      <td>0.0</td>\n",
       "      <td>0.0</td>\n",
       "      <td>0.0</td>\n",
       "      <td>0.0</td>\n",
       "      <td>20071015</td>\n",
       "      <td>0.0</td>\n",
       "      <td>0.0</td>\n",
       "      <td>0.0</td>\n",
       "      <td>100636</td>\n",
       "    </tr>\n",
       "    <tr>\n",
       "      <th>1</th>\n",
       "      <td>2059.0</td>\n",
       "      <td>799.0</td>\n",
       "      <td>1260.0</td>\n",
       "      <td>6470.0</td>\n",
       "      <td>2507.0</td>\n",
       "      <td>3963.0</td>\n",
       "      <td>20071015</td>\n",
       "      <td>408.0</td>\n",
       "      <td>885.0</td>\n",
       "      <td>477.0</td>\n",
       "      <td>100654</td>\n",
       "    </tr>\n",
       "    <tr>\n",
       "      <th>2</th>\n",
       "      <td>3705.0</td>\n",
       "      <td>1489.0</td>\n",
       "      <td>2216.0</td>\n",
       "      <td>4221.0</td>\n",
       "      <td>1674.0</td>\n",
       "      <td>2547.0</td>\n",
       "      <td>20071015</td>\n",
       "      <td>612.0</td>\n",
       "      <td>1531.0</td>\n",
       "      <td>919.0</td>\n",
       "      <td>100663</td>\n",
       "    </tr>\n",
       "    <tr>\n",
       "      <th>3</th>\n",
       "      <td>0.0</td>\n",
       "      <td>0.0</td>\n",
       "      <td>0.0</td>\n",
       "      <td>0.0</td>\n",
       "      <td>0.0</td>\n",
       "      <td>0.0</td>\n",
       "      <td>20071015</td>\n",
       "      <td>0.0</td>\n",
       "      <td>0.0</td>\n",
       "      <td>0.0</td>\n",
       "      <td>100690</td>\n",
       "    </tr>\n",
       "    <tr>\n",
       "      <th>4</th>\n",
       "      <td>1628.0</td>\n",
       "      <td>845.0</td>\n",
       "      <td>783.0</td>\n",
       "      <td>1850.0</td>\n",
       "      <td>921.0</td>\n",
       "      <td>929.0</td>\n",
       "      <td>20071015</td>\n",
       "      <td>424.0</td>\n",
       "      <td>800.0</td>\n",
       "      <td>376.0</td>\n",
       "      <td>100706</td>\n",
       "    </tr>\n",
       "    <tr>\n",
       "      <th>2070</th>\n",
       "      <td>14.0</td>\n",
       "      <td>14.0</td>\n",
       "      <td>0.0</td>\n",
       "      <td>15.0</td>\n",
       "      <td>15.0</td>\n",
       "      <td>0.0</td>\n",
       "      <td>20171015</td>\n",
       "      <td>12.0</td>\n",
       "      <td>12.0</td>\n",
       "      <td>0.0</td>\n",
       "      <td>491057</td>\n",
       "    </tr>\n",
       "    <tr>\n",
       "      <th>2071</th>\n",
       "      <td>12.0</td>\n",
       "      <td>3.0</td>\n",
       "      <td>9.0</td>\n",
       "      <td>15.0</td>\n",
       "      <td>4.0</td>\n",
       "      <td>11.0</td>\n",
       "      <td>20171015</td>\n",
       "      <td>3.0</td>\n",
       "      <td>12.0</td>\n",
       "      <td>9.0</td>\n",
       "      <td>491163</td>\n",
       "    </tr>\n",
       "    <tr>\n",
       "      <th>2072</th>\n",
       "      <td>0.0</td>\n",
       "      <td>0.0</td>\n",
       "      <td>0.0</td>\n",
       "      <td>2.0</td>\n",
       "      <td>2.0</td>\n",
       "      <td>0.0</td>\n",
       "      <td>20171015</td>\n",
       "      <td>0.0</td>\n",
       "      <td>0.0</td>\n",
       "      <td>0.0</td>\n",
       "      <td>491288</td>\n",
       "    </tr>\n",
       "    <tr>\n",
       "      <th>2073</th>\n",
       "      <td>1.0</td>\n",
       "      <td>0.0</td>\n",
       "      <td>1.0</td>\n",
       "      <td>1.0</td>\n",
       "      <td>0.0</td>\n",
       "      <td>1.0</td>\n",
       "      <td>20171015</td>\n",
       "      <td>0.0</td>\n",
       "      <td>0.0</td>\n",
       "      <td>0.0</td>\n",
       "      <td>491297</td>\n",
       "    </tr>\n",
       "    <tr>\n",
       "      <th>2074</th>\n",
       "      <td>4.0</td>\n",
       "      <td>1.0</td>\n",
       "      <td>3.0</td>\n",
       "      <td>5.0</td>\n",
       "      <td>2.0</td>\n",
       "      <td>3.0</td>\n",
       "      <td>20171015</td>\n",
       "      <td>1.0</td>\n",
       "      <td>4.0</td>\n",
       "      <td>3.0</td>\n",
       "      <td>491303</td>\n",
       "    </tr>\n",
       "  </tbody>\n",
       "</table>\n",
       "</div>"
      ],
      "text/plain": [
       "      admssn  admssnm  admssnw  applcn  applcnm  applcnw  date_key  enrlm  \\\n",
       "0        0.0      0.0      0.0     0.0      0.0      0.0  20071015    0.0   \n",
       "1     2059.0    799.0   1260.0  6470.0   2507.0   3963.0  20071015  408.0   \n",
       "2     3705.0   1489.0   2216.0  4221.0   1674.0   2547.0  20071015  612.0   \n",
       "3        0.0      0.0      0.0     0.0      0.0      0.0  20071015    0.0   \n",
       "4     1628.0    845.0    783.0  1850.0    921.0    929.0  20071015  424.0   \n",
       "2070    14.0     14.0      0.0    15.0     15.0      0.0  20171015   12.0   \n",
       "2071    12.0      3.0      9.0    15.0      4.0     11.0  20171015    3.0   \n",
       "2072     0.0      0.0      0.0     2.0      2.0      0.0  20171015    0.0   \n",
       "2073     1.0      0.0      1.0     1.0      0.0      1.0  20171015    0.0   \n",
       "2074     4.0      1.0      3.0     5.0      2.0      3.0  20171015    1.0   \n",
       "\n",
       "       enrlt  enrlw  institution_key  \n",
       "0        0.0    0.0           100636  \n",
       "1      885.0  477.0           100654  \n",
       "2     1531.0  919.0           100663  \n",
       "3        0.0    0.0           100690  \n",
       "4      800.0  376.0           100706  \n",
       "2070    12.0    0.0           491057  \n",
       "2071    12.0    9.0           491163  \n",
       "2072     0.0    0.0           491288  \n",
       "2073     0.0    0.0           491297  \n",
       "2074     4.0    3.0           491303  "
      ]
     },
     "execution_count": 4,
     "metadata": {},
     "output_type": "execute_result"
    }
   ],
   "source": [
    "df.iloc[[0, 1, 2, 3, 4, -5, -4, -3, -2, -1],:]"
   ]
  },
  {
   "cell_type": "markdown",
   "metadata": {},
   "source": [
    "# Look for Potential Structural Issues\n",
    "\n",
    "## Zero Applications, Non-zero Admissions\n",
    "\n",
    "As long as the number of cases is small, perhaps setting apps = admits."
   ]
  },
  {
   "cell_type": "code",
   "execution_count": 5,
   "metadata": {},
   "outputs": [
    {
     "data": {
      "text/html": [
       "<div>\n",
       "<style scoped>\n",
       "    .dataframe tbody tr th:only-of-type {\n",
       "        vertical-align: middle;\n",
       "    }\n",
       "\n",
       "    .dataframe tbody tr th {\n",
       "        vertical-align: top;\n",
       "    }\n",
       "\n",
       "    .dataframe thead th {\n",
       "        text-align: right;\n",
       "    }\n",
       "</style>\n",
       "<table border=\"1\" class=\"dataframe\">\n",
       "  <thead>\n",
       "    <tr style=\"text-align: right;\">\n",
       "      <th></th>\n",
       "      <th>admssn</th>\n",
       "      <th>admssnm</th>\n",
       "      <th>admssnw</th>\n",
       "      <th>applcn</th>\n",
       "      <th>applcnm</th>\n",
       "      <th>applcnw</th>\n",
       "      <th>date_key</th>\n",
       "      <th>enrlm</th>\n",
       "      <th>enrlt</th>\n",
       "      <th>enrlw</th>\n",
       "      <th>institution_key</th>\n",
       "    </tr>\n",
       "  </thead>\n",
       "  <tbody>\n",
       "    <tr>\n",
       "      <th>3114</th>\n",
       "      <td>42.0</td>\n",
       "      <td>0.0</td>\n",
       "      <td>0.0</td>\n",
       "      <td>0.0</td>\n",
       "      <td>0.0</td>\n",
       "      <td>0.0</td>\n",
       "      <td>20071015</td>\n",
       "      <td>0.0</td>\n",
       "      <td>33.0</td>\n",
       "      <td>0.0</td>\n",
       "      <td>199883</td>\n",
       "    </tr>\n",
       "  </tbody>\n",
       "</table>\n",
       "</div>"
      ],
      "text/plain": [
       "      admssn  admssnm  admssnw  applcn  applcnm  applcnw  date_key  enrlm  \\\n",
       "3114    42.0      0.0      0.0     0.0      0.0      0.0  20071015    0.0   \n",
       "\n",
       "      enrlt  enrlw  institution_key  \n",
       "3114   33.0    0.0           199883  "
      ]
     },
     "execution_count": 5,
     "metadata": {},
     "output_type": "execute_result"
    }
   ],
   "source": [
    "# zero apps, non-zero admits\n",
    "df.loc[(df[\"applcn\"] == 0) & (df[\"admssn\"] > 0), :]"
   ]
  },
  {
   "cell_type": "code",
   "execution_count": 6,
   "metadata": {},
   "outputs": [],
   "source": [
    "df[\"applcn\"] = np.where((df[\"applcn\"] == 0) & (df[\"admssn\"] > 0), df[\"admssn\"], df[\"applcn\"])"
   ]
  },
  {
   "cell_type": "markdown",
   "metadata": {},
   "source": [
    "## Zero Admissions, Non-zero Enrollment"
   ]
  },
  {
   "cell_type": "code",
   "execution_count": 7,
   "metadata": {},
   "outputs": [
    {
     "data": {
      "text/html": [
       "<div>\n",
       "<style scoped>\n",
       "    .dataframe tbody tr th:only-of-type {\n",
       "        vertical-align: middle;\n",
       "    }\n",
       "\n",
       "    .dataframe tbody tr th {\n",
       "        vertical-align: top;\n",
       "    }\n",
       "\n",
       "    .dataframe thead th {\n",
       "        text-align: right;\n",
       "    }\n",
       "</style>\n",
       "<table border=\"1\" class=\"dataframe\">\n",
       "  <thead>\n",
       "    <tr style=\"text-align: right;\">\n",
       "      <th></th>\n",
       "      <th>admssn</th>\n",
       "      <th>admssnm</th>\n",
       "      <th>admssnw</th>\n",
       "      <th>applcn</th>\n",
       "      <th>applcnm</th>\n",
       "      <th>applcnw</th>\n",
       "      <th>date_key</th>\n",
       "      <th>enrlm</th>\n",
       "      <th>enrlt</th>\n",
       "      <th>enrlw</th>\n",
       "      <th>institution_key</th>\n",
       "    </tr>\n",
       "  </thead>\n",
       "  <tbody>\n",
       "  </tbody>\n",
       "</table>\n",
       "</div>"
      ],
      "text/plain": [
       "Empty DataFrame\n",
       "Columns: [admssn, admssnm, admssnw, applcn, applcnm, applcnw, date_key, enrlm, enrlt, enrlw, institution_key]\n",
       "Index: []"
      ]
     },
     "execution_count": 7,
     "metadata": {},
     "output_type": "execute_result"
    }
   ],
   "source": [
    "# zero admits, non-zero enrollment\n",
    "df.loc[(df[\"admssn\"] == 0) & (df[\"enrlt\"] > 0), :]"
   ]
  },
  {
   "cell_type": "markdown",
   "metadata": {},
   "source": [
    "## Sum of Men and Women Applications is Greater than Total Applications"
   ]
  },
  {
   "cell_type": "code",
   "execution_count": 8,
   "metadata": {},
   "outputs": [
    {
     "data": {
      "text/html": [
       "<div>\n",
       "<style scoped>\n",
       "    .dataframe tbody tr th:only-of-type {\n",
       "        vertical-align: middle;\n",
       "    }\n",
       "\n",
       "    .dataframe tbody tr th {\n",
       "        vertical-align: top;\n",
       "    }\n",
       "\n",
       "    .dataframe thead th {\n",
       "        text-align: right;\n",
       "    }\n",
       "</style>\n",
       "<table border=\"1\" class=\"dataframe\">\n",
       "  <thead>\n",
       "    <tr style=\"text-align: right;\">\n",
       "      <th></th>\n",
       "      <th>admssn</th>\n",
       "      <th>admssnm</th>\n",
       "      <th>admssnw</th>\n",
       "      <th>applcn</th>\n",
       "      <th>applcnm</th>\n",
       "      <th>applcnw</th>\n",
       "      <th>date_key</th>\n",
       "      <th>enrlm</th>\n",
       "      <th>enrlt</th>\n",
       "      <th>enrlw</th>\n",
       "      <th>institution_key</th>\n",
       "    </tr>\n",
       "  </thead>\n",
       "  <tbody>\n",
       "  </tbody>\n",
       "</table>\n",
       "</div>"
      ],
      "text/plain": [
       "Empty DataFrame\n",
       "Columns: [admssn, admssnm, admssnw, applcn, applcnm, applcnw, date_key, enrlm, enrlt, enrlw, institution_key]\n",
       "Index: []"
      ]
     },
     "execution_count": 8,
     "metadata": {},
     "output_type": "execute_result"
    }
   ],
   "source": [
    "# total applications less than sum of parts\n",
    "df.loc[df[\"applcn\"] < df[\"applcnm\"] + df[\"applcnw\"],:]"
   ]
  },
  {
   "cell_type": "markdown",
   "metadata": {},
   "source": [
    "# Calculate Unknown Sex Categories\n",
    "\n",
    "Calculate an unknown variable to accomodate those institutions where the total applications, admissions, and enrollment are greater than the sum of their headcounts of men and women.  This will ensure that the details roll up to the total in the final long format data frame."
   ]
  },
  {
   "cell_type": "code",
   "execution_count": 9,
   "metadata": {},
   "outputs": [
    {
     "data": {
      "text/html": [
       "<div>\n",
       "<style scoped>\n",
       "    .dataframe tbody tr th:only-of-type {\n",
       "        vertical-align: middle;\n",
       "    }\n",
       "\n",
       "    .dataframe tbody tr th {\n",
       "        vertical-align: top;\n",
       "    }\n",
       "\n",
       "    .dataframe thead th {\n",
       "        text-align: right;\n",
       "    }\n",
       "</style>\n",
       "<table border=\"1\" class=\"dataframe\">\n",
       "  <thead>\n",
       "    <tr style=\"text-align: right;\">\n",
       "      <th></th>\n",
       "      <th>applcn</th>\n",
       "      <th>applcnm</th>\n",
       "      <th>applcnw</th>\n",
       "      <th>applcnu</th>\n",
       "    </tr>\n",
       "  </thead>\n",
       "  <tbody>\n",
       "    <tr>\n",
       "      <th>35</th>\n",
       "      <td>883.0</td>\n",
       "      <td>0.0</td>\n",
       "      <td>0.0</td>\n",
       "      <td>883.0</td>\n",
       "    </tr>\n",
       "    <tr>\n",
       "      <th>42</th>\n",
       "      <td>2330.0</td>\n",
       "      <td>0.0</td>\n",
       "      <td>0.0</td>\n",
       "      <td>2330.0</td>\n",
       "    </tr>\n",
       "    <tr>\n",
       "      <th>85</th>\n",
       "      <td>25449.0</td>\n",
       "      <td>12163.0</td>\n",
       "      <td>13185.0</td>\n",
       "      <td>101.0</td>\n",
       "    </tr>\n",
       "    <tr>\n",
       "      <th>111</th>\n",
       "      <td>471.0</td>\n",
       "      <td>358.0</td>\n",
       "      <td>104.0</td>\n",
       "      <td>9.0</td>\n",
       "    </tr>\n",
       "    <tr>\n",
       "      <th>132</th>\n",
       "      <td>287.0</td>\n",
       "      <td>0.0</td>\n",
       "      <td>0.0</td>\n",
       "      <td>287.0</td>\n",
       "    </tr>\n",
       "  </tbody>\n",
       "</table>\n",
       "</div>"
      ],
      "text/plain": [
       "      applcn  applcnm  applcnw  applcnu\n",
       "35     883.0      0.0      0.0    883.0\n",
       "42    2330.0      0.0      0.0   2330.0\n",
       "85   25449.0  12163.0  13185.0    101.0\n",
       "111    471.0    358.0    104.0      9.0\n",
       "132    287.0      0.0      0.0    287.0"
      ]
     },
     "execution_count": 9,
     "metadata": {},
     "output_type": "execute_result"
    }
   ],
   "source": [
    "# calculate unknowns\n",
    "df[\"applcnu\"] = df[\"applcn\"] - (df[\"applcnm\"] + df[\"applcnw\"])\n",
    "df[\"admssnu\"] = df[\"admssn\"] - (df[\"admssnm\"] + df[\"admssnw\"])\n",
    "df[\"enrlu\"] = df[\"enrlt\"] - (df[\"enrlm\"] + df[\"enrlw\"])\n",
    "\n",
    "df.loc[df[\"applcnu\"] > 0, [\"applcn\", \"applcnm\", \"applcnw\", \"applcnu\"]].head()"
   ]
  },
  {
   "cell_type": "markdown",
   "metadata": {},
   "source": [
    "# Convert From Wide to Long\n",
    "\n",
    "Melt the DataFrame, pivoting value columns into a single column. \n",
    "Create a field column to identify type of value.\n",
    "Create a sex column to identify values by sex."
   ]
  },
  {
   "cell_type": "code",
   "execution_count": 10,
   "metadata": {},
   "outputs": [
    {
     "data": {
      "text/html": [
       "<div>\n",
       "<style scoped>\n",
       "    .dataframe tbody tr th:only-of-type {\n",
       "        vertical-align: middle;\n",
       "    }\n",
       "\n",
       "    .dataframe tbody tr th {\n",
       "        vertical-align: top;\n",
       "    }\n",
       "\n",
       "    .dataframe thead th {\n",
       "        text-align: right;\n",
       "    }\n",
       "</style>\n",
       "<table border=\"1\" class=\"dataframe\">\n",
       "  <thead>\n",
       "    <tr style=\"text-align: right;\">\n",
       "      <th></th>\n",
       "      <th>institution_key</th>\n",
       "      <th>date_key</th>\n",
       "      <th>variable</th>\n",
       "      <th>count</th>\n",
       "      <th>field</th>\n",
       "      <th>sex</th>\n",
       "    </tr>\n",
       "  </thead>\n",
       "  <tbody>\n",
       "    <tr>\n",
       "      <th>0</th>\n",
       "      <td>100636</td>\n",
       "      <td>20071015</td>\n",
       "      <td>applcnm</td>\n",
       "      <td>0.0</td>\n",
       "      <td>applications</td>\n",
       "      <td>men</td>\n",
       "    </tr>\n",
       "    <tr>\n",
       "      <th>1</th>\n",
       "      <td>100654</td>\n",
       "      <td>20071015</td>\n",
       "      <td>applcnm</td>\n",
       "      <td>2507.0</td>\n",
       "      <td>applications</td>\n",
       "      <td>men</td>\n",
       "    </tr>\n",
       "    <tr>\n",
       "      <th>2</th>\n",
       "      <td>100663</td>\n",
       "      <td>20071015</td>\n",
       "      <td>applcnm</td>\n",
       "      <td>1674.0</td>\n",
       "      <td>applications</td>\n",
       "      <td>men</td>\n",
       "    </tr>\n",
       "    <tr>\n",
       "      <th>3</th>\n",
       "      <td>100690</td>\n",
       "      <td>20071015</td>\n",
       "      <td>applcnm</td>\n",
       "      <td>0.0</td>\n",
       "      <td>applications</td>\n",
       "      <td>men</td>\n",
       "    </tr>\n",
       "    <tr>\n",
       "      <th>4</th>\n",
       "      <td>100706</td>\n",
       "      <td>20071015</td>\n",
       "      <td>applcnm</td>\n",
       "      <td>921.0</td>\n",
       "      <td>applications</td>\n",
       "      <td>men</td>\n",
       "    </tr>\n",
       "    <tr>\n",
       "      <th>538969</th>\n",
       "      <td>491057</td>\n",
       "      <td>20171015</td>\n",
       "      <td>enrlu</td>\n",
       "      <td>0.0</td>\n",
       "      <td>enrollment</td>\n",
       "      <td>unknown</td>\n",
       "    </tr>\n",
       "    <tr>\n",
       "      <th>538970</th>\n",
       "      <td>491163</td>\n",
       "      <td>20171015</td>\n",
       "      <td>enrlu</td>\n",
       "      <td>0.0</td>\n",
       "      <td>enrollment</td>\n",
       "      <td>unknown</td>\n",
       "    </tr>\n",
       "    <tr>\n",
       "      <th>538971</th>\n",
       "      <td>491288</td>\n",
       "      <td>20171015</td>\n",
       "      <td>enrlu</td>\n",
       "      <td>0.0</td>\n",
       "      <td>enrollment</td>\n",
       "      <td>unknown</td>\n",
       "    </tr>\n",
       "    <tr>\n",
       "      <th>538972</th>\n",
       "      <td>491297</td>\n",
       "      <td>20171015</td>\n",
       "      <td>enrlu</td>\n",
       "      <td>0.0</td>\n",
       "      <td>enrollment</td>\n",
       "      <td>unknown</td>\n",
       "    </tr>\n",
       "    <tr>\n",
       "      <th>538973</th>\n",
       "      <td>491303</td>\n",
       "      <td>20171015</td>\n",
       "      <td>enrlu</td>\n",
       "      <td>0.0</td>\n",
       "      <td>enrollment</td>\n",
       "      <td>unknown</td>\n",
       "    </tr>\n",
       "  </tbody>\n",
       "</table>\n",
       "</div>"
      ],
      "text/plain": [
       "        institution_key  date_key variable   count         field      sex\n",
       "0                100636  20071015  applcnm     0.0  applications      men\n",
       "1                100654  20071015  applcnm  2507.0  applications      men\n",
       "2                100663  20071015  applcnm  1674.0  applications      men\n",
       "3                100690  20071015  applcnm     0.0  applications      men\n",
       "4                100706  20071015  applcnm   921.0  applications      men\n",
       "538969           491057  20171015    enrlu     0.0    enrollment  unknown\n",
       "538970           491163  20171015    enrlu     0.0    enrollment  unknown\n",
       "538971           491288  20171015    enrlu     0.0    enrollment  unknown\n",
       "538972           491297  20171015    enrlu     0.0    enrollment  unknown\n",
       "538973           491303  20171015    enrlu     0.0    enrollment  unknown"
      ]
     },
     "execution_count": 10,
     "metadata": {},
     "output_type": "execute_result"
    }
   ],
   "source": [
    "# reshape from wide to long format\n",
    "adm_long = pd.melt(df, id_vars = indices,\n",
    "                   value_vars = [\"applcnm\", \"applcnw\", \"applcnu\",\n",
    "                                 \"admssnm\", \"admssnw\", \"admssnu\",\n",
    "                                 \"enrlm\", \"enrlw\", \"enrlu\"],\n",
    "                   value_name = \"count\")\n",
    "\n",
    "# field indicator\n",
    "adm_long[\"field\"] = np.where(adm_long[\"variable\"].str.slice(0, 3) == \"app\", \"applications\", \"unknown\")\n",
    "adm_long[\"field\"] = np.where(adm_long[\"variable\"].str.slice(0, 3) == \"adm\", \"admissions\", adm_long[\"field\"])\n",
    "adm_long[\"field\"] = np.where(adm_long[\"variable\"].str.slice(0, 3) == \"enr\", \"enrollment\", adm_long[\"field\"])\n",
    "\n",
    "# sex indicator\n",
    "adm_long[\"sex\"] = np.where(adm_long[\"variable\"].str.slice(-1) == \"w\", \"women\", \"unknown\")\n",
    "adm_long[\"sex\"] = np.where(adm_long[\"variable\"].str.slice(-1) == \"m\", \"men\", adm_long[\"sex\"])\n",
    "\n",
    "adm_long.iloc[[0, 1, 2, 3, 4, -5, -4, -3, -2, -1],:]"
   ]
  },
  {
   "cell_type": "markdown",
   "metadata": {},
   "source": [
    "# Inspect Field Values\n",
    "\n",
    "Check for unknown.  If there is an unknown value here, something has changed in naming conventions."
   ]
  },
  {
   "cell_type": "code",
   "execution_count": 11,
   "metadata": {},
   "outputs": [
    {
     "data": {
      "text/plain": [
       "applications    179658\n",
       "enrollment      179658\n",
       "admissions      179658\n",
       "Name: field, dtype: int64"
      ]
     },
     "execution_count": 11,
     "metadata": {},
     "output_type": "execute_result"
    }
   ],
   "source": [
    "adm_long[\"field\"].value_counts()"
   ]
  },
  {
   "cell_type": "markdown",
   "metadata": {},
   "source": [
    "# Add Demographic Key\n",
    "\n",
    "This adds a demographic key for warehousing.  The first 5 characters are all set to \"unkn\" because IPEDS-ADM does not collect race/ethnicity."
   ]
  },
  {
   "cell_type": "code",
   "execution_count": 12,
   "metadata": {},
   "outputs": [
    {
     "data": {
      "text/plain": [
       "unknw    179658\n",
       "unknm    179658\n",
       "unknu    179658\n",
       "Name: demographic_key, dtype: int64"
      ]
     },
     "execution_count": 12,
     "metadata": {},
     "output_type": "execute_result"
    }
   ],
   "source": [
    "adm_long[\"demographic_key\"] = \"unknu\"\n",
    "adm_long[\"demographic_key\"] = np.where(adm_long[\"sex\"] == \"men\", \"unknm\", adm_long[\"demographic_key\"])\n",
    "adm_long[\"demographic_key\"] = np.where(adm_long[\"sex\"] == \"women\", \"unknw\", adm_long[\"demographic_key\"])\n",
    "\n",
    "adm_long[\"demographic_key\"].value_counts()"
   ]
  },
  {
   "cell_type": "markdown",
   "metadata": {},
   "source": [
    "# Pivot Long Data to Final Format\n",
    "\n",
    "Pivot and aggregate (sum) the count column, converting the field variable back into three measures: applications, admissions, and enrollment.  For warehousing, we will eventually drop the sex field, but it is kept here for data checking purposes."
   ]
  },
  {
   "cell_type": "code",
   "execution_count": 13,
   "metadata": {},
   "outputs": [
    {
     "data": {
      "text/html": [
       "<div>\n",
       "<style scoped>\n",
       "    .dataframe tbody tr th:only-of-type {\n",
       "        vertical-align: middle;\n",
       "    }\n",
       "\n",
       "    .dataframe tbody tr th {\n",
       "        vertical-align: top;\n",
       "    }\n",
       "\n",
       "    .dataframe thead th {\n",
       "        text-align: right;\n",
       "    }\n",
       "</style>\n",
       "<table border=\"1\" class=\"dataframe\">\n",
       "  <thead>\n",
       "    <tr style=\"text-align: right;\">\n",
       "      <th>field</th>\n",
       "      <th>institution_key</th>\n",
       "      <th>date_key</th>\n",
       "      <th>demographic_key</th>\n",
       "      <th>sex</th>\n",
       "      <th>admissions</th>\n",
       "      <th>applications</th>\n",
       "      <th>enrollment</th>\n",
       "    </tr>\n",
       "  </thead>\n",
       "  <tbody>\n",
       "    <tr>\n",
       "      <th>18</th>\n",
       "      <td>100654</td>\n",
       "      <td>20071015</td>\n",
       "      <td>unknm</td>\n",
       "      <td>men</td>\n",
       "      <td>799</td>\n",
       "      <td>2507</td>\n",
       "      <td>408</td>\n",
       "    </tr>\n",
       "    <tr>\n",
       "      <th>20</th>\n",
       "      <td>100654</td>\n",
       "      <td>20071015</td>\n",
       "      <td>unknw</td>\n",
       "      <td>women</td>\n",
       "      <td>1260</td>\n",
       "      <td>3963</td>\n",
       "      <td>477</td>\n",
       "    </tr>\n",
       "    <tr>\n",
       "      <th>21</th>\n",
       "      <td>100654</td>\n",
       "      <td>20081015</td>\n",
       "      <td>unknm</td>\n",
       "      <td>men</td>\n",
       "      <td>837</td>\n",
       "      <td>1664</td>\n",
       "      <td>476</td>\n",
       "    </tr>\n",
       "    <tr>\n",
       "      <th>23</th>\n",
       "      <td>100654</td>\n",
       "      <td>20081015</td>\n",
       "      <td>unknw</td>\n",
       "      <td>women</td>\n",
       "      <td>1104</td>\n",
       "      <td>2297</td>\n",
       "      <td>570</td>\n",
       "    </tr>\n",
       "    <tr>\n",
       "      <th>24</th>\n",
       "      <td>100654</td>\n",
       "      <td>20091015</td>\n",
       "      <td>unknm</td>\n",
       "      <td>men</td>\n",
       "      <td>1059</td>\n",
       "      <td>2273</td>\n",
       "      <td>507</td>\n",
       "    </tr>\n",
       "    <tr>\n",
       "      <th>179648</th>\n",
       "      <td>491163</td>\n",
       "      <td>20171015</td>\n",
       "      <td>unknw</td>\n",
       "      <td>women</td>\n",
       "      <td>9</td>\n",
       "      <td>11</td>\n",
       "      <td>9</td>\n",
       "    </tr>\n",
       "    <tr>\n",
       "      <th>179649</th>\n",
       "      <td>491288</td>\n",
       "      <td>20171015</td>\n",
       "      <td>unknm</td>\n",
       "      <td>men</td>\n",
       "      <td>0</td>\n",
       "      <td>2</td>\n",
       "      <td>0</td>\n",
       "    </tr>\n",
       "    <tr>\n",
       "      <th>179654</th>\n",
       "      <td>491297</td>\n",
       "      <td>20171015</td>\n",
       "      <td>unknw</td>\n",
       "      <td>women</td>\n",
       "      <td>1</td>\n",
       "      <td>1</td>\n",
       "      <td>0</td>\n",
       "    </tr>\n",
       "    <tr>\n",
       "      <th>179655</th>\n",
       "      <td>491303</td>\n",
       "      <td>20171015</td>\n",
       "      <td>unknm</td>\n",
       "      <td>men</td>\n",
       "      <td>1</td>\n",
       "      <td>2</td>\n",
       "      <td>1</td>\n",
       "    </tr>\n",
       "    <tr>\n",
       "      <th>179657</th>\n",
       "      <td>491303</td>\n",
       "      <td>20171015</td>\n",
       "      <td>unknw</td>\n",
       "      <td>women</td>\n",
       "      <td>3</td>\n",
       "      <td>3</td>\n",
       "      <td>3</td>\n",
       "    </tr>\n",
       "  </tbody>\n",
       "</table>\n",
       "</div>"
      ],
      "text/plain": [
       "field   institution_key  date_key demographic_key    sex  admissions  \\\n",
       "18               100654  20071015           unknm    men         799   \n",
       "20               100654  20071015           unknw  women        1260   \n",
       "21               100654  20081015           unknm    men         837   \n",
       "23               100654  20081015           unknw  women        1104   \n",
       "24               100654  20091015           unknm    men        1059   \n",
       "179648           491163  20171015           unknw  women           9   \n",
       "179649           491288  20171015           unknm    men           0   \n",
       "179654           491297  20171015           unknw  women           1   \n",
       "179655           491303  20171015           unknm    men           1   \n",
       "179657           491303  20171015           unknw  women           3   \n",
       "\n",
       "field   applications  enrollment  \n",
       "18              2507         408  \n",
       "20              3963         477  \n",
       "21              1664         476  \n",
       "23              2297         570  \n",
       "24              2273         507  \n",
       "179648            11           9  \n",
       "179649             2           0  \n",
       "179654             1           0  \n",
       "179655             2           1  \n",
       "179657             3           3  "
      ]
     },
     "execution_count": 13,
     "metadata": {},
     "output_type": "execute_result"
    }
   ],
   "source": [
    "adm = adm_long.pivot_table(index=[\"institution_key\", \"date_key\", \"demographic_key\", \"sex\"],\n",
    "                           columns='field',\n",
    "                           values='count',\n",
    "                           aggfunc = np.sum,\n",
    "                           fill_value = 0).reset_index()\n",
    "\n",
    "# remove institutions with no applications\n",
    "adm = adm.loc[adm[\"applications\"] > 0]\n",
    "\n",
    "adm.iloc[[0, 1, 2, 3, 4, -5, -4, -3, -2, -1],:]"
   ]
  },
  {
   "cell_type": "markdown",
   "metadata": {},
   "source": [
    "# Write Data to Warehouse (later)"
   ]
  },
  {
   "cell_type": "code",
   "execution_count": 14,
   "metadata": {},
   "outputs": [],
   "source": [
    "from sqlalchemy import create_engine\n",
    "\n",
    "engine = create_engine('mssql+pyodbc://ched-dev', legacy_schema_aliasing = True)\n",
    "\n",
    "adm_to_db = adm[[\"institution_key\", \"date_key\", \"demographic_key\", \"applications\", \"admissions\", \"enrollment\"]]\n",
    "\n",
    "adm_to_db.to_sql('admissions_measures',\n",
    "                 engine,\n",
    "                 if_exists = \"append\",\n",
    "                 index = False)\n",
    "\n",
    "engine = None"
   ]
  },
  {
   "cell_type": "markdown",
   "metadata": {},
   "source": [
    "# Create Some Variables and Do Basic Exploration"
   ]
  },
  {
   "cell_type": "code",
   "execution_count": 15,
   "metadata": {},
   "outputs": [
    {
     "data": {
      "text/plain": [
       "(3644, 10)"
      ]
     },
     "execution_count": 15,
     "metadata": {},
     "output_type": "execute_result"
    }
   ],
   "source": [
    "adm[\"acceptance_rate\"] = adm[\"admissions\"] / adm[\"applications\"]\n",
    "adm[\"yield_rate\"] = adm[\"enrollment\"] / adm[\"admissions\"]\n",
    "adm[\"isUNL\"] = np.where(adm[\"institution_key\"] == 181464, 1, 0)\n",
    "\n",
    "cases = (adm[\"date_key\"] == 20171015) & (adm[\"acceptance_rate\"] < 1.0) & (adm[\"yield_rate\"] < 1.0)\n",
    "viz_set = adm[cases]\n",
    "\n",
    "viz_set.shape"
   ]
  },
  {
   "cell_type": "code",
   "execution_count": 16,
   "metadata": {},
   "outputs": [
    {
     "name": "stderr",
     "output_type": "stream",
     "text": [
      "C:\\Users\\jcasey10\\AppData\\Local\\Continuum\\anaconda3\\lib\\site-packages\\scipy\\stats\\stats.py:1713: FutureWarning: Using a non-tuple sequence for multidimensional indexing is deprecated; use `arr[tuple(seq)]` instead of `arr[seq]`. In the future this will be interpreted as an array index, `arr[np.array(seq)]`, which will result either in an error or a different result.\n",
      "  return np.add.reduce(sorted[indexer] * weights, axis=axis) / sumval\n"
     ]
    },
    {
     "data": {
      "text/plain": [
       "<seaborn.axisgrid.JointGrid at 0x283fd4103c8>"
      ]
     },
     "execution_count": 16,
     "metadata": {},
     "output_type": "execute_result"
    },
    {
     "data": {
      "image/png": "[encoded data removed]",
      "text/plain": [
       "<Figure size 432x432 with 3 Axes>"
      ]
     },
     "metadata": {
      "needs_background": "light"
     },
     "output_type": "display_data"
    }
   ],
   "source": [
    "sns.jointplot(x = \"acceptance_rate\",\n",
    "              y = \"yield_rate\",\n",
    "              data = viz_set,\n",
    "              kind=\"hex\",\n",
    "              color=\"#4CB391\")"
   ]
  },
  {
   "cell_type": "code",
   "execution_count": 17,
   "metadata": {},
   "outputs": [
    {
     "data": {
      "text/plain": [
       "<seaborn.axisgrid.FacetGrid at 0x28383289208>"
      ]
     },
     "execution_count": 17,
     "metadata": {},
     "output_type": "execute_result"
    },
    {
     "data": {
      "image/png": "[encoded data removed]",
      "text/plain": [
       "<Figure size 401.625x360 with 1 Axes>"
      ]
     },
     "metadata": {
      "needs_background": "light"
     },
     "output_type": "display_data"
    }
   ],
   "source": [
    "sns.lmplot(x = \"acceptance_rate\",\n",
    "           y = \"yield_rate\",\n",
    "           data = viz_set,\n",
    "           fit_reg = False,\n",
    "           hue='isUNL')"
   ]
  },
  {
   "cell_type": "code",
   "execution_count": null,
   "metadata": {},
   "outputs": [],
   "source": []
  }
 ],
 "metadata": {
  "kernelspec": {
   "display_name": "Python 3",
   "language": "python",
   "name": "python3"
  },
  "language_info": {
   "codemirror_mode": {
    "name": "ipython",
    "version": 3
   },
   "file_extension": ".py",
   "mimetype": "text/x-python",
   "name": "python",
   "nbconvert_exporter": "python",
   "pygments_lexer": "ipython3",
   "version": "3.6.6"
  }
 },
 "nbformat": 4,
 "nbformat_minor": 2
}
