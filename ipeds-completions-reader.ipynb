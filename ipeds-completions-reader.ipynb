{
 "cells": [
  {
   "cell_type": "raw",
   "metadata": {},
   "source": [
    "# Setup\n",
    "\n",
    "Load libraries, set matplotlib to inline plotting, and create constants for analysis"
   ]
  },
  {
   "cell_type": "code",
   "execution_count": 107,
   "metadata": {},
   "outputs": [
    {
     "data": {
      "text/plain": [
       "[2007, 2008, 2009, 2010, 2011, 2012, 2013, 2014, 2015, 2016, 2017]"
      ]
     },
     "execution_count": 107,
     "metadata": {},
     "output_type": "execute_result"
    }
   ],
   "source": [
    "from io import BytesIO\n",
    "from zipfile import ZipFile\n",
    "from urllib.request import urlopen\n",
    "\n",
    "import pyodbc as db\n",
    "import numpy as np\n",
    "import pandas as pd\n",
    "from pandas import DataFrame, Series\n",
    "import matplotlib.pyplot as plt\n",
    "\n",
    "import seaborn as sns\n",
    "\n",
    "%matplotlib inline\n",
    "\n",
    "start_year = 2007\n",
    "end_year = 2017\n",
    "\n",
    "years = [i for i in range(start_year, end_year + 1)]\n",
    "\n",
    "# key columns\n",
    "indices = [\"unitid\", \"date_key\"]\n",
    "\n",
    "# value columns\n",
    "cols = [\"applcn\", \"applcnm\", \"applcnw\", \"admssn\", \"admssnm\", \"admssnw\",\n",
    "        \"enrlt\", \"enrlm\", \"enrlw\"]\n",
    "\n",
    "types = {\"UNITID\" : np.int64,\n",
    "         \"APPLCN\" : np.int32, \"APPLCNM\" : np.int32, \"APPLCNW\" : np.int32,\n",
    "         \"ADMSSN\" : np.int32, \"ADMSSNM\" : np.int32, \"ADMSSNW\" : np.int32,\n",
    "         \"ENRLT\" : np.int32, \"ENRLM\" : np.int32, \"ENRLW\" : np.int32,\n",
    "         \"ENRLFT\" : np.int32, \"ENRLFTM\" : np.int32, \"ENRLFTW\" : np.int32,\n",
    "         \"ENRLPT\" : np.int32, \"ENRLPTM\" : np.int32, \"ENRLPTW\" : np.int32}\n",
    "# moto.test_column = pd.to_numeric(data.test_column, errors='coerce')\n",
    "def fix_cols(dat):\n",
    "    dat.columns = [colname.lower() for colname in list(dat.columns.values)]\n",
    "    for col in cols:\n",
    "        dat[col] = pd.to_numeric(dat[col], errors = \"coerce\")\n",
    "years"
   ]
  },
  {
   "cell_type": "raw",
   "metadata": {},
   "source": [
    "# Read Data\n",
    "\n",
    "Read data file from NCES website for each year selected, set column names to lower case for sanity, reduce to needed columns, and fill NaN with zero.  Show data frame shape (to"
   ]
  },
  {
   "cell_type": "code",
   "execution_count": 130,
   "metadata": {},
   "outputs": [
    {
     "data": {
      "text/plain": [
       "(26310, 11)"
      ]
     },
     "execution_count": 130,
     "metadata": {},
     "output_type": "execute_result"
    }
   ],
   "source": [
    "df = DataFrame()\n",
    "\n",
    "for year in years:\n",
    "    # prior to 2014, admissions was reported in the IPEDS-IC survey rather than IPEDS-ADM\n",
    "    if year < 2014:\n",
    "        url = \"https://nces.ed.gov/ipeds/datacenter/data/ic\" + str(year) + \".zip\"\n",
    "        file_name = \"ic\" + str(year) + \".csv\"\n",
    "    else:\n",
    "        url = \"https://nces.ed.gov/ipeds/datacenter/data/adm\" + str(year) + \".zip\"\n",
    "        file_name = \"adm\" + str(year) + \".csv\"\n",
    "        \n",
    "    resp = urlopen(url)\n",
    "    zipfile = ZipFile(BytesIO(resp.read()))\n",
    "    myfile = zipfile.open(file_name)\n",
    "    temp = pd.read_csv(myfile,\n",
    "                       low_memory = False,\n",
    "                       encoding = \"iso-8859-1\")\n",
    "    fix_cols(temp)\n",
    "    temp[\"date_key\"] = (year * 10000) + 1015\n",
    "    df = pd.concat([df, temp],\n",
    "                   sort = True)\n",
    "    temp = None\n",
    "    \n",
    "# df.columns = [colname.lower() for colname in list(df.columns.values)]\n",
    "\n",
    "# select only needed columns\n",
    "df = pd.concat((df[indices], df[cols]), axis = 1)\n",
    "\n",
    "# replace NaN with zero\n",
    "df = df.fillna(0)\n",
    "\n",
    "df.shape"
   ]
  },
  {
   "cell_type": "raw",
   "metadata": {},
   "source": [
    "# Look At Summaries"
   ]
  },
  {
   "cell_type": "code",
   "execution_count": 131,
   "metadata": {},
   "outputs": [
    {
     "name": "stdout",
     "output_type": "stream",
     "text": [
      "<class 'pandas.core.frame.DataFrame'>\n",
      "Int64Index: 26310 entries, 1 to 2074\n",
      "Data columns (total 11 columns):\n",
      "unitid      26310 non-null int64\n",
      "date_key    26310 non-null int64\n",
      "applcn      26310 non-null float64\n",
      "applcnm     26310 non-null float64\n",
      "applcnw     26310 non-null float64\n",
      "admssn      26310 non-null float64\n",
      "admssnm     26310 non-null float64\n",
      "admssnw     26310 non-null float64\n",
      "enrlt       26310 non-null float64\n",
      "enrlm       26310 non-null float64\n",
      "enrlw       26310 non-null float64\n",
      "dtypes: float64(9), int64(2)\n",
      "memory usage: 2.4 MB\n"
     ]
    }
   ],
   "source": [
    "df.info()"
   ]
  },
  {
   "cell_type": "raw",
   "metadata": {},
   "source": [
    "Look at first and last cases"
   ]
  },
  {
   "cell_type": "code",
   "execution_count": 132,
   "metadata": {},
   "outputs": [
    {
     "data": {
      "text/html": [
       "<div>\n",
       "<style scoped>\n",
       "    .dataframe tbody tr th:only-of-type {\n",
       "        vertical-align: middle;\n",
       "    }\n",
       "\n",
       "    .dataframe tbody tr th {\n",
       "        vertical-align: top;\n",
       "    }\n",
       "\n",
       "    .dataframe thead th {\n",
       "        text-align: right;\n",
       "    }\n",
       "</style>\n",
       "<table border=\"1\" class=\"dataframe\">\n",
       "  <thead>\n",
       "    <tr style=\"text-align: right;\">\n",
       "      <th></th>\n",
       "      <th>unitid</th>\n",
       "      <th>date_key</th>\n",
       "      <th>applcn</th>\n",
       "      <th>applcnm</th>\n",
       "      <th>applcnw</th>\n",
       "      <th>admssn</th>\n",
       "      <th>admssnm</th>\n",
       "      <th>admssnw</th>\n",
       "      <th>enrlt</th>\n",
       "      <th>enrlm</th>\n",
       "      <th>enrlw</th>\n",
       "    </tr>\n",
       "  </thead>\n",
       "  <tbody>\n",
       "    <tr>\n",
       "      <th>1</th>\n",
       "      <td>100654</td>\n",
       "      <td>20071015</td>\n",
       "      <td>6470.0</td>\n",
       "      <td>2507.0</td>\n",
       "      <td>3963.0</td>\n",
       "      <td>2059.0</td>\n",
       "      <td>799.0</td>\n",
       "      <td>1260.0</td>\n",
       "      <td>885.0</td>\n",
       "      <td>408.0</td>\n",
       "      <td>477.0</td>\n",
       "    </tr>\n",
       "    <tr>\n",
       "      <th>2</th>\n",
       "      <td>100663</td>\n",
       "      <td>20071015</td>\n",
       "      <td>4221.0</td>\n",
       "      <td>1674.0</td>\n",
       "      <td>2547.0</td>\n",
       "      <td>3705.0</td>\n",
       "      <td>1489.0</td>\n",
       "      <td>2216.0</td>\n",
       "      <td>1531.0</td>\n",
       "      <td>612.0</td>\n",
       "      <td>919.0</td>\n",
       "    </tr>\n",
       "    <tr>\n",
       "      <th>4</th>\n",
       "      <td>100706</td>\n",
       "      <td>20071015</td>\n",
       "      <td>1850.0</td>\n",
       "      <td>921.0</td>\n",
       "      <td>929.0</td>\n",
       "      <td>1628.0</td>\n",
       "      <td>845.0</td>\n",
       "      <td>783.0</td>\n",
       "      <td>800.0</td>\n",
       "      <td>424.0</td>\n",
       "      <td>376.0</td>\n",
       "    </tr>\n",
       "    <tr>\n",
       "      <th>5</th>\n",
       "      <td>100724</td>\n",
       "      <td>20071015</td>\n",
       "      <td>12436.0</td>\n",
       "      <td>7353.0</td>\n",
       "      <td>5083.0</td>\n",
       "      <td>5172.0</td>\n",
       "      <td>3214.0</td>\n",
       "      <td>1958.0</td>\n",
       "      <td>1366.0</td>\n",
       "      <td>589.0</td>\n",
       "      <td>777.0</td>\n",
       "    </tr>\n",
       "    <tr>\n",
       "      <th>7</th>\n",
       "      <td>100751</td>\n",
       "      <td>20071015</td>\n",
       "      <td>14313.0</td>\n",
       "      <td>6185.0</td>\n",
       "      <td>8128.0</td>\n",
       "      <td>9140.0</td>\n",
       "      <td>3908.0</td>\n",
       "      <td>5232.0</td>\n",
       "      <td>4538.0</td>\n",
       "      <td>2042.0</td>\n",
       "      <td>2496.0</td>\n",
       "    </tr>\n",
       "    <tr>\n",
       "      <th>2070</th>\n",
       "      <td>491057</td>\n",
       "      <td>20171015</td>\n",
       "      <td>15.0</td>\n",
       "      <td>15.0</td>\n",
       "      <td>0.0</td>\n",
       "      <td>14.0</td>\n",
       "      <td>14.0</td>\n",
       "      <td>0.0</td>\n",
       "      <td>12.0</td>\n",
       "      <td>12.0</td>\n",
       "      <td>0.0</td>\n",
       "    </tr>\n",
       "    <tr>\n",
       "      <th>2071</th>\n",
       "      <td>491163</td>\n",
       "      <td>20171015</td>\n",
       "      <td>15.0</td>\n",
       "      <td>4.0</td>\n",
       "      <td>11.0</td>\n",
       "      <td>12.0</td>\n",
       "      <td>3.0</td>\n",
       "      <td>9.0</td>\n",
       "      <td>12.0</td>\n",
       "      <td>3.0</td>\n",
       "      <td>9.0</td>\n",
       "    </tr>\n",
       "    <tr>\n",
       "      <th>2072</th>\n",
       "      <td>491288</td>\n",
       "      <td>20171015</td>\n",
       "      <td>2.0</td>\n",
       "      <td>2.0</td>\n",
       "      <td>0.0</td>\n",
       "      <td>0.0</td>\n",
       "      <td>0.0</td>\n",
       "      <td>0.0</td>\n",
       "      <td>0.0</td>\n",
       "      <td>0.0</td>\n",
       "      <td>0.0</td>\n",
       "    </tr>\n",
       "    <tr>\n",
       "      <th>2073</th>\n",
       "      <td>491297</td>\n",
       "      <td>20171015</td>\n",
       "      <td>1.0</td>\n",
       "      <td>0.0</td>\n",
       "      <td>1.0</td>\n",
       "      <td>1.0</td>\n",
       "      <td>0.0</td>\n",
       "      <td>1.0</td>\n",
       "      <td>0.0</td>\n",
       "      <td>0.0</td>\n",
       "      <td>0.0</td>\n",
       "    </tr>\n",
       "    <tr>\n",
       "      <th>2074</th>\n",
       "      <td>491303</td>\n",
       "      <td>20171015</td>\n",
       "      <td>5.0</td>\n",
       "      <td>2.0</td>\n",
       "      <td>3.0</td>\n",
       "      <td>4.0</td>\n",
       "      <td>1.0</td>\n",
       "      <td>3.0</td>\n",
       "      <td>4.0</td>\n",
       "      <td>1.0</td>\n",
       "      <td>3.0</td>\n",
       "    </tr>\n",
       "  </tbody>\n",
       "</table>\n",
       "</div>"
      ],
      "text/plain": [
       "      unitid  date_key   applcn  applcnm  applcnw  admssn  admssnm  admssnw  \\\n",
       "1     100654  20071015   6470.0   2507.0   3963.0  2059.0    799.0   1260.0   \n",
       "2     100663  20071015   4221.0   1674.0   2547.0  3705.0   1489.0   2216.0   \n",
       "4     100706  20071015   1850.0    921.0    929.0  1628.0    845.0    783.0   \n",
       "5     100724  20071015  12436.0   7353.0   5083.0  5172.0   3214.0   1958.0   \n",
       "7     100751  20071015  14313.0   6185.0   8128.0  9140.0   3908.0   5232.0   \n",
       "2070  491057  20171015     15.0     15.0      0.0    14.0     14.0      0.0   \n",
       "2071  491163  20171015     15.0      4.0     11.0    12.0      3.0      9.0   \n",
       "2072  491288  20171015      2.0      2.0      0.0     0.0      0.0      0.0   \n",
       "2073  491297  20171015      1.0      0.0      1.0     1.0      0.0      1.0   \n",
       "2074  491303  20171015      5.0      2.0      3.0     4.0      1.0      3.0   \n",
       "\n",
       "       enrlt   enrlm   enrlw  \n",
       "1      885.0   408.0   477.0  \n",
       "2     1531.0   612.0   919.0  \n",
       "4      800.0   424.0   376.0  \n",
       "5     1366.0   589.0   777.0  \n",
       "7     4538.0  2042.0  2496.0  \n",
       "2070    12.0    12.0     0.0  \n",
       "2071    12.0     3.0     9.0  \n",
       "2072     0.0     0.0     0.0  \n",
       "2073     0.0     0.0     0.0  \n",
       "2074     4.0     1.0     3.0  "
      ]
     },
     "execution_count": 132,
     "metadata": {},
     "output_type": "execute_result"
    }
   ],
   "source": [
    "df.iloc[[0, 1, 2, 3, 4, -5, -4, -3, -2, -1],:]"
   ]
  },
  {
   "cell_type": "raw",
   "metadata": {},
   "source": [
    "# Look for potential structural issues"
   ]
  },
  {
   "cell_type": "raw",
   "metadata": {},
   "source": [
    "Zero applications, non-zero admissions"
   ]
  },
  {
   "cell_type": "code",
   "execution_count": 133,
   "metadata": {},
   "outputs": [
    {
     "data": {
      "text/html": [
       "<div>\n",
       "<style scoped>\n",
       "    .dataframe tbody tr th:only-of-type {\n",
       "        vertical-align: middle;\n",
       "    }\n",
       "\n",
       "    .dataframe tbody tr th {\n",
       "        vertical-align: top;\n",
       "    }\n",
       "\n",
       "    .dataframe thead th {\n",
       "        text-align: right;\n",
       "    }\n",
       "</style>\n",
       "<table border=\"1\" class=\"dataframe\">\n",
       "  <thead>\n",
       "    <tr style=\"text-align: right;\">\n",
       "      <th></th>\n",
       "      <th>unitid</th>\n",
       "      <th>date_key</th>\n",
       "      <th>applcn</th>\n",
       "      <th>applcnm</th>\n",
       "      <th>applcnw</th>\n",
       "      <th>admssn</th>\n",
       "      <th>admssnm</th>\n",
       "      <th>admssnw</th>\n",
       "      <th>enrlt</th>\n",
       "      <th>enrlm</th>\n",
       "      <th>enrlw</th>\n",
       "    </tr>\n",
       "  </thead>\n",
       "  <tbody>\n",
       "  </tbody>\n",
       "</table>\n",
       "</div>"
      ],
      "text/plain": [
       "Empty DataFrame\n",
       "Columns: [unitid, date_key, applcn, applcnm, applcnw, admssn, admssnm, admssnw, enrlt, enrlm, enrlw]\n",
       "Index: []"
      ]
     },
     "execution_count": 133,
     "metadata": {},
     "output_type": "execute_result"
    }
   ],
   "source": [
    "# zero apps, non-zero admits\n",
    "df.loc[(df[\"applcn\"] == 0) & (df[\"admssn\"] > 0), :]"
   ]
  },
  {
   "cell_type": "raw",
   "metadata": {},
   "source": [
    "Zero admissions, non-zero enrollment"
   ]
  },
  {
   "cell_type": "code",
   "execution_count": 134,
   "metadata": {},
   "outputs": [
    {
     "data": {
      "text/html": [
       "<div>\n",
       "<style scoped>\n",
       "    .dataframe tbody tr th:only-of-type {\n",
       "        vertical-align: middle;\n",
       "    }\n",
       "\n",
       "    .dataframe tbody tr th {\n",
       "        vertical-align: top;\n",
       "    }\n",
       "\n",
       "    .dataframe thead th {\n",
       "        text-align: right;\n",
       "    }\n",
       "</style>\n",
       "<table border=\"1\" class=\"dataframe\">\n",
       "  <thead>\n",
       "    <tr style=\"text-align: right;\">\n",
       "      <th></th>\n",
       "      <th>unitid</th>\n",
       "      <th>date_key</th>\n",
       "      <th>applcn</th>\n",
       "      <th>applcnm</th>\n",
       "      <th>applcnw</th>\n",
       "      <th>admssn</th>\n",
       "      <th>admssnm</th>\n",
       "      <th>admssnw</th>\n",
       "      <th>enrlt</th>\n",
       "      <th>enrlm</th>\n",
       "      <th>enrlw</th>\n",
       "    </tr>\n",
       "  </thead>\n",
       "  <tbody>\n",
       "  </tbody>\n",
       "</table>\n",
       "</div>"
      ],
      "text/plain": [
       "Empty DataFrame\n",
       "Columns: [unitid, date_key, applcn, applcnm, applcnw, admssn, admssnm, admssnw, enrlt, enrlm, enrlw]\n",
       "Index: []"
      ]
     },
     "execution_count": 134,
     "metadata": {},
     "output_type": "execute_result"
    }
   ],
   "source": [
    "# zero admits, non-zero enrollment\n",
    "df.loc[(df[\"admssn\"] == 0) & (df[\"enrlt\"] > 0), :]"
   ]
  },
  {
   "cell_type": "raw",
   "metadata": {},
   "source": [
    "Sum of men and women applications is greater than total applications"
   ]
  },
  {
   "cell_type": "code",
   "execution_count": 135,
   "metadata": {},
   "outputs": [
    {
     "data": {
      "text/html": [
       "<div>\n",
       "<style scoped>\n",
       "    .dataframe tbody tr th:only-of-type {\n",
       "        vertical-align: middle;\n",
       "    }\n",
       "\n",
       "    .dataframe tbody tr th {\n",
       "        vertical-align: top;\n",
       "    }\n",
       "\n",
       "    .dataframe thead th {\n",
       "        text-align: right;\n",
       "    }\n",
       "</style>\n",
       "<table border=\"1\" class=\"dataframe\">\n",
       "  <thead>\n",
       "    <tr style=\"text-align: right;\">\n",
       "      <th></th>\n",
       "      <th>unitid</th>\n",
       "      <th>date_key</th>\n",
       "      <th>applcn</th>\n",
       "      <th>applcnm</th>\n",
       "      <th>applcnw</th>\n",
       "      <th>admssn</th>\n",
       "      <th>admssnm</th>\n",
       "      <th>admssnw</th>\n",
       "      <th>enrlt</th>\n",
       "      <th>enrlm</th>\n",
       "      <th>enrlw</th>\n",
       "    </tr>\n",
       "  </thead>\n",
       "  <tbody>\n",
       "  </tbody>\n",
       "</table>\n",
       "</div>"
      ],
      "text/plain": [
       "Empty DataFrame\n",
       "Columns: [unitid, date_key, applcn, applcnm, applcnw, admssn, admssnm, admssnw, enrlt, enrlm, enrlw]\n",
       "Index: []"
      ]
     },
     "execution_count": 135,
     "metadata": {},
     "output_type": "execute_result"
    }
   ],
   "source": [
    "# total applications less than sum of parts\n",
    "df.loc[df[\"applcn\"] < df[\"applcnm\"] + df[\"applcnw\"],:]"
   ]
  },
  {
   "cell_type": "raw",
   "metadata": {},
   "source": [
    "# Calculate unknown sex categories\n",
    "\n",
    "Calculate an unknown variable to accomodate those institutions where the total applications, admissions, and enrollment are greater than the sum of their headcounts of men and women.  This will ensure that the details roll up to the total in the final long format data frame."
   ]
  },
  {
   "cell_type": "code",
   "execution_count": 136,
   "metadata": {},
   "outputs": [
    {
     "data": {
      "text/html": [
       "<div>\n",
       "<style scoped>\n",
       "    .dataframe tbody tr th:only-of-type {\n",
       "        vertical-align: middle;\n",
       "    }\n",
       "\n",
       "    .dataframe tbody tr th {\n",
       "        vertical-align: top;\n",
       "    }\n",
       "\n",
       "    .dataframe thead th {\n",
       "        text-align: right;\n",
       "    }\n",
       "</style>\n",
       "<table border=\"1\" class=\"dataframe\">\n",
       "  <thead>\n",
       "    <tr style=\"text-align: right;\">\n",
       "      <th></th>\n",
       "      <th>applcn</th>\n",
       "      <th>applcnm</th>\n",
       "      <th>applcnw</th>\n",
       "      <th>applcnu</th>\n",
       "    </tr>\n",
       "  </thead>\n",
       "  <tbody>\n",
       "    <tr>\n",
       "      <th>35</th>\n",
       "      <td>883.0</td>\n",
       "      <td>0.0</td>\n",
       "      <td>0.0</td>\n",
       "      <td>883.0</td>\n",
       "    </tr>\n",
       "    <tr>\n",
       "      <th>42</th>\n",
       "      <td>2330.0</td>\n",
       "      <td>0.0</td>\n",
       "      <td>0.0</td>\n",
       "      <td>2330.0</td>\n",
       "    </tr>\n",
       "    <tr>\n",
       "      <th>85</th>\n",
       "      <td>25449.0</td>\n",
       "      <td>12163.0</td>\n",
       "      <td>13185.0</td>\n",
       "      <td>101.0</td>\n",
       "    </tr>\n",
       "    <tr>\n",
       "      <th>111</th>\n",
       "      <td>471.0</td>\n",
       "      <td>358.0</td>\n",
       "      <td>104.0</td>\n",
       "      <td>9.0</td>\n",
       "    </tr>\n",
       "    <tr>\n",
       "      <th>132</th>\n",
       "      <td>287.0</td>\n",
       "      <td>0.0</td>\n",
       "      <td>0.0</td>\n",
       "      <td>287.0</td>\n",
       "    </tr>\n",
       "  </tbody>\n",
       "</table>\n",
       "</div>"
      ],
      "text/plain": [
       "      applcn  applcnm  applcnw  applcnu\n",
       "35     883.0      0.0      0.0    883.0\n",
       "42    2330.0      0.0      0.0   2330.0\n",
       "85   25449.0  12163.0  13185.0    101.0\n",
       "111    471.0    358.0    104.0      9.0\n",
       "132    287.0      0.0      0.0    287.0"
      ]
     },
     "execution_count": 136,
     "metadata": {},
     "output_type": "execute_result"
    }
   ],
   "source": [
    "# calculate unknowns\n",
    "df[\"applcnu\"] = df[\"applcn\"] - (df[\"applcnm\"] + df[\"applcnw\"])\n",
    "df[\"admssnu\"] = df[\"admssn\"] - (df[\"admssnm\"] + df[\"admssnw\"])\n",
    "df[\"enrlu\"] = df[\"enrlt\"] - (df[\"enrlm\"] + df[\"enrlw\"])\n",
    "\n",
    "df.loc[df[\"applcnu\"] > 0, [\"applcn\", \"applcnm\", \"applcnw\", \"applcnu\"]].head()"
   ]
  },
  {
   "cell_type": "raw",
   "metadata": {},
   "source": [
    "# Convert From Wide to Long\n",
    "\n",
    "Melt the DataFrame, pivoting value columns into a single column. \n",
    "Create a field column to identify type of value.\n",
    "Create a sex column to identify values by sex."
   ]
  },
  {
   "cell_type": "code",
   "execution_count": 137,
   "metadata": {},
   "outputs": [
    {
     "data": {
      "text/html": [
       "<div>\n",
       "<style scoped>\n",
       "    .dataframe tbody tr th:only-of-type {\n",
       "        vertical-align: middle;\n",
       "    }\n",
       "\n",
       "    .dataframe tbody tr th {\n",
       "        vertical-align: top;\n",
       "    }\n",
       "\n",
       "    .dataframe thead th {\n",
       "        text-align: right;\n",
       "    }\n",
       "</style>\n",
       "<table border=\"1\" class=\"dataframe\">\n",
       "  <thead>\n",
       "    <tr style=\"text-align: right;\">\n",
       "      <th></th>\n",
       "      <th>unitid</th>\n",
       "      <th>date_key</th>\n",
       "      <th>variable</th>\n",
       "      <th>count</th>\n",
       "      <th>field</th>\n",
       "      <th>sex</th>\n",
       "    </tr>\n",
       "  </thead>\n",
       "  <tbody>\n",
       "    <tr>\n",
       "      <th>0</th>\n",
       "      <td>100654</td>\n",
       "      <td>20071015</td>\n",
       "      <td>applcnm</td>\n",
       "      <td>2507.0</td>\n",
       "      <td>applications</td>\n",
       "      <td>men</td>\n",
       "    </tr>\n",
       "    <tr>\n",
       "      <th>1</th>\n",
       "      <td>100663</td>\n",
       "      <td>20071015</td>\n",
       "      <td>applcnm</td>\n",
       "      <td>1674.0</td>\n",
       "      <td>applications</td>\n",
       "      <td>men</td>\n",
       "    </tr>\n",
       "    <tr>\n",
       "      <th>2</th>\n",
       "      <td>100706</td>\n",
       "      <td>20071015</td>\n",
       "      <td>applcnm</td>\n",
       "      <td>921.0</td>\n",
       "      <td>applications</td>\n",
       "      <td>men</td>\n",
       "    </tr>\n",
       "    <tr>\n",
       "      <th>3</th>\n",
       "      <td>100724</td>\n",
       "      <td>20071015</td>\n",
       "      <td>applcnm</td>\n",
       "      <td>7353.0</td>\n",
       "      <td>applications</td>\n",
       "      <td>men</td>\n",
       "    </tr>\n",
       "    <tr>\n",
       "      <th>4</th>\n",
       "      <td>100751</td>\n",
       "      <td>20071015</td>\n",
       "      <td>applcnm</td>\n",
       "      <td>6185.0</td>\n",
       "      <td>applications</td>\n",
       "      <td>men</td>\n",
       "    </tr>\n",
       "    <tr>\n",
       "      <th>236785</th>\n",
       "      <td>491057</td>\n",
       "      <td>20171015</td>\n",
       "      <td>enrlu</td>\n",
       "      <td>0.0</td>\n",
       "      <td>enrollment</td>\n",
       "      <td>unknown</td>\n",
       "    </tr>\n",
       "    <tr>\n",
       "      <th>236786</th>\n",
       "      <td>491163</td>\n",
       "      <td>20171015</td>\n",
       "      <td>enrlu</td>\n",
       "      <td>0.0</td>\n",
       "      <td>enrollment</td>\n",
       "      <td>unknown</td>\n",
       "    </tr>\n",
       "    <tr>\n",
       "      <th>236787</th>\n",
       "      <td>491288</td>\n",
       "      <td>20171015</td>\n",
       "      <td>enrlu</td>\n",
       "      <td>0.0</td>\n",
       "      <td>enrollment</td>\n",
       "      <td>unknown</td>\n",
       "    </tr>\n",
       "    <tr>\n",
       "      <th>236788</th>\n",
       "      <td>491297</td>\n",
       "      <td>20171015</td>\n",
       "      <td>enrlu</td>\n",
       "      <td>0.0</td>\n",
       "      <td>enrollment</td>\n",
       "      <td>unknown</td>\n",
       "    </tr>\n",
       "    <tr>\n",
       "      <th>236789</th>\n",
       "      <td>491303</td>\n",
       "      <td>20171015</td>\n",
       "      <td>enrlu</td>\n",
       "      <td>0.0</td>\n",
       "      <td>enrollment</td>\n",
       "      <td>unknown</td>\n",
       "    </tr>\n",
       "  </tbody>\n",
       "</table>\n",
       "</div>"
      ],
      "text/plain": [
       "        unitid  date_key variable   count         field      sex\n",
       "0       100654  20071015  applcnm  2507.0  applications      men\n",
       "1       100663  20071015  applcnm  1674.0  applications      men\n",
       "2       100706  20071015  applcnm   921.0  applications      men\n",
       "3       100724  20071015  applcnm  7353.0  applications      men\n",
       "4       100751  20071015  applcnm  6185.0  applications      men\n",
       "236785  491057  20171015    enrlu     0.0    enrollment  unknown\n",
       "236786  491163  20171015    enrlu     0.0    enrollment  unknown\n",
       "236787  491288  20171015    enrlu     0.0    enrollment  unknown\n",
       "236788  491297  20171015    enrlu     0.0    enrollment  unknown\n",
       "236789  491303  20171015    enrlu     0.0    enrollment  unknown"
      ]
     },
     "execution_count": 137,
     "metadata": {},
     "output_type": "execute_result"
    }
   ],
   "source": [
    "# reshape from wide to long format\n",
    "adm_long = pd.melt(df, id_vars = [\"unitid\", \"date_key\"],\n",
    "                   value_vars = [\"applcnm\", \"applcnw\", \"applcnu\",\n",
    "                                 \"admssnm\", \"admssnw\", \"admssnu\",\n",
    "                                 \"enrlm\", \"enrlw\", \"enrlu\"],\n",
    "                   value_name = \"count\")\n",
    "\n",
    "# field indicator\n",
    "adm_long[\"field\"] = np.where(adm_long[\"variable\"].str.slice(0, 3) == \"app\", \"applications\", \"unknown\")\n",
    "adm_long[\"field\"] = np.where(adm_long[\"variable\"].str.slice(0, 3) == \"adm\", \"admissions\", adm_long[\"field\"])\n",
    "adm_long[\"field\"] = np.where(adm_long[\"variable\"].str.slice(0, 3) == \"enr\", \"enrollment\", adm_long[\"field\"])\n",
    "\n",
    "# sex indicator\n",
    "adm_long[\"sex\"] = np.where(adm_long[\"variable\"].str.slice(-1) == \"w\", \"women\", \"unknown\")\n",
    "adm_long[\"sex\"] = np.where(adm_long[\"variable\"].str.slice(-1) == \"m\", \"men\", adm_long[\"sex\"])\n",
    "\n",
    "adm_long.iloc[[0, 1, 2, 3, 4, -5, -4, -3, -2, -1],:]"
   ]
  },
  {
   "cell_type": "raw",
   "metadata": {},
   "source": [
    "# Inspect Field Values\n",
    "\n",
    "Check for unknown.  If there is an unknown value here, something has changed in naming conventions."
   ]
  },
  {
   "cell_type": "code",
   "execution_count": 138,
   "metadata": {},
   "outputs": [
    {
     "data": {
      "text/plain": [
       "enrollment      78930\n",
       "applications    78930\n",
       "admissions      78930\n",
       "Name: field, dtype: int64"
      ]
     },
     "execution_count": 138,
     "metadata": {},
     "output_type": "execute_result"
    }
   ],
   "source": [
    "adm_long[\"field\"].value_counts()"
   ]
  },
  {
   "cell_type": "raw",
   "metadata": {},
   "source": [
    "# Add Demographic Key\n",
    "\n",
    "This adds a demographic key for warehousing.  The first 5 characters are all set to \"unkn\" because IPEDS-ADM does not collect race/ethnicity."
   ]
  },
  {
   "cell_type": "code",
   "execution_count": 139,
   "metadata": {},
   "outputs": [
    {
     "data": {
      "text/plain": [
       "unknu    78930\n",
       "unknw    78930\n",
       "unknm    78930\n",
       "Name: demographic_key, dtype: int64"
      ]
     },
     "execution_count": 139,
     "metadata": {},
     "output_type": "execute_result"
    }
   ],
   "source": [
    "adm_long[\"demographic_key\"] = \"unknu\"\n",
    "adm_long[\"demographic_key\"] = np.where(adm_long[\"sex\"] == \"men\", \"unknm\", adm_long[\"demographic_key\"])\n",
    "adm_long[\"demographic_key\"] = np.where(adm_long[\"sex\"] == \"women\", \"unknw\", adm_long[\"demographic_key\"])\n",
    "\n",
    "adm_long[\"demographic_key\"].value_counts()"
   ]
  },
  {
   "cell_type": "raw",
   "metadata": {},
   "source": [
    "# Pivot Long Data to Final Format\n",
    "\n",
    "Pivot and aggregate (sum) the count column, converting the field variable back into three measures: applications, admissions, and enrollment.  For warehousing, we will eventually drop the sex field, but it is kept here for data checking purposes."
   ]
  },
  {
   "cell_type": "code",
   "execution_count": 141,
   "metadata": {},
   "outputs": [
    {
     "data": {
      "text/html": [
       "<div>\n",
       "<style scoped>\n",
       "    .dataframe tbody tr th:only-of-type {\n",
       "        vertical-align: middle;\n",
       "    }\n",
       "\n",
       "    .dataframe tbody tr th {\n",
       "        vertical-align: top;\n",
       "    }\n",
       "\n",
       "    .dataframe thead th {\n",
       "        text-align: right;\n",
       "    }\n",
       "</style>\n",
       "<table border=\"1\" class=\"dataframe\">\n",
       "  <thead>\n",
       "    <tr style=\"text-align: right;\">\n",
       "      <th>field</th>\n",
       "      <th>unitid</th>\n",
       "      <th>date_key</th>\n",
       "      <th>demographic_key</th>\n",
       "      <th>sex</th>\n",
       "      <th>admissions</th>\n",
       "      <th>applications</th>\n",
       "      <th>enrollment</th>\n",
       "    </tr>\n",
       "  </thead>\n",
       "  <tbody>\n",
       "    <tr>\n",
       "      <th>0</th>\n",
       "      <td>100654</td>\n",
       "      <td>20071015</td>\n",
       "      <td>unknm</td>\n",
       "      <td>men</td>\n",
       "      <td>799</td>\n",
       "      <td>2507</td>\n",
       "      <td>408</td>\n",
       "    </tr>\n",
       "    <tr>\n",
       "      <th>2</th>\n",
       "      <td>100654</td>\n",
       "      <td>20071015</td>\n",
       "      <td>unknw</td>\n",
       "      <td>women</td>\n",
       "      <td>1260</td>\n",
       "      <td>3963</td>\n",
       "      <td>477</td>\n",
       "    </tr>\n",
       "    <tr>\n",
       "      <th>3</th>\n",
       "      <td>100654</td>\n",
       "      <td>20081015</td>\n",
       "      <td>unknm</td>\n",
       "      <td>men</td>\n",
       "      <td>837</td>\n",
       "      <td>1664</td>\n",
       "      <td>476</td>\n",
       "    </tr>\n",
       "    <tr>\n",
       "      <th>5</th>\n",
       "      <td>100654</td>\n",
       "      <td>20081015</td>\n",
       "      <td>unknw</td>\n",
       "      <td>women</td>\n",
       "      <td>1104</td>\n",
       "      <td>2297</td>\n",
       "      <td>570</td>\n",
       "    </tr>\n",
       "    <tr>\n",
       "      <th>6</th>\n",
       "      <td>100654</td>\n",
       "      <td>20091015</td>\n",
       "      <td>unknm</td>\n",
       "      <td>men</td>\n",
       "      <td>1059</td>\n",
       "      <td>2273</td>\n",
       "      <td>507</td>\n",
       "    </tr>\n",
       "    <tr>\n",
       "      <th>78920</th>\n",
       "      <td>491163</td>\n",
       "      <td>20171015</td>\n",
       "      <td>unknw</td>\n",
       "      <td>women</td>\n",
       "      <td>9</td>\n",
       "      <td>11</td>\n",
       "      <td>9</td>\n",
       "    </tr>\n",
       "    <tr>\n",
       "      <th>78921</th>\n",
       "      <td>491288</td>\n",
       "      <td>20171015</td>\n",
       "      <td>unknm</td>\n",
       "      <td>men</td>\n",
       "      <td>0</td>\n",
       "      <td>2</td>\n",
       "      <td>0</td>\n",
       "    </tr>\n",
       "    <tr>\n",
       "      <th>78926</th>\n",
       "      <td>491297</td>\n",
       "      <td>20171015</td>\n",
       "      <td>unknw</td>\n",
       "      <td>women</td>\n",
       "      <td>1</td>\n",
       "      <td>1</td>\n",
       "      <td>0</td>\n",
       "    </tr>\n",
       "    <tr>\n",
       "      <th>78927</th>\n",
       "      <td>491303</td>\n",
       "      <td>20171015</td>\n",
       "      <td>unknm</td>\n",
       "      <td>men</td>\n",
       "      <td>1</td>\n",
       "      <td>2</td>\n",
       "      <td>1</td>\n",
       "    </tr>\n",
       "    <tr>\n",
       "      <th>78929</th>\n",
       "      <td>491303</td>\n",
       "      <td>20171015</td>\n",
       "      <td>unknw</td>\n",
       "      <td>women</td>\n",
       "      <td>3</td>\n",
       "      <td>3</td>\n",
       "      <td>3</td>\n",
       "    </tr>\n",
       "  </tbody>\n",
       "</table>\n",
       "</div>"
      ],
      "text/plain": [
       "field  unitid  date_key demographic_key    sex  admissions  applications  \\\n",
       "0      100654  20071015           unknm    men         799          2507   \n",
       "2      100654  20071015           unknw  women        1260          3963   \n",
       "3      100654  20081015           unknm    men         837          1664   \n",
       "5      100654  20081015           unknw  women        1104          2297   \n",
       "6      100654  20091015           unknm    men        1059          2273   \n",
       "78920  491163  20171015           unknw  women           9            11   \n",
       "78921  491288  20171015           unknm    men           0             2   \n",
       "78926  491297  20171015           unknw  women           1             1   \n",
       "78927  491303  20171015           unknm    men           1             2   \n",
       "78929  491303  20171015           unknw  women           3             3   \n",
       "\n",
       "field  enrollment  \n",
       "0             408  \n",
       "2             477  \n",
       "3             476  \n",
       "5             570  \n",
       "6             507  \n",
       "78920           9  \n",
       "78921           0  \n",
       "78926           0  \n",
       "78927           1  \n",
       "78929           3  "
      ]
     },
     "execution_count": 141,
     "metadata": {},
     "output_type": "execute_result"
    }
   ],
   "source": [
    "adm = adm_long.pivot_table(index=[\"unitid\", \"date_key\", \"demographic_key\", \"sex\"],\n",
    "                           columns='field',\n",
    "                           values='count',\n",
    "                           aggfunc = np.sum,\n",
    "                           fill_value = 0).reset_index()\n",
    "\n",
    "# remove institutions with no applications\n",
    "adm = adm.loc[adm[\"applications\"] > 0]\n",
    "\n",
    "adm.iloc[[0, 1, 2, 3, 4, -5, -4, -3, -2, -1],:]"
   ]
  },
  {
   "cell_type": "raw",
   "metadata": {},
   "source": [
    "# Write Data to Warehouse (later)"
   ]
  },
  {
   "cell_type": "raw",
   "metadata": {},
   "source": [
    "# Create Some Variables and Do Basic Exploration"
   ]
  },
  {
   "cell_type": "code",
   "execution_count": 150,
   "metadata": {},
   "outputs": [
    {
     "data": {
      "text/plain": [
       "(3644, 10)"
      ]
     },
     "execution_count": 150,
     "metadata": {},
     "output_type": "execute_result"
    }
   ],
   "source": [
    "adm[\"acceptance_rate\"] = adm[\"admissions\"] / adm[\"applications\"]\n",
    "adm[\"yield_rate\"] = adm[\"enrollment\"] / adm[\"admissions\"]\n",
    "adm[\"isUNL\"] = np.where(adm[\"unitid\"] == 181464, \"UNL\", \"Others\")\n",
    "\n",
    "#  & (adm[\"acceptance_rate\"] > 0) & (adm[\"acceptance_rate\"] <= 1.0) & (adm[\"yield_rate\"] > 0) & (adm[\"yield_rate\"] <= 1.0)\n",
    "\n",
    "cases = (adm[\"date_key\"] == 20171015) & (adm[\"acceptance_rate\"] < 1.0) & (adm[\"yield_rate\"] < 1.0)\n",
    "viz_set = adm[cases]\n",
    "\n",
    "viz_set.shape"
   ]
  },
  {
   "cell_type": "code",
   "execution_count": 151,
   "metadata": {},
   "outputs": [
    {
     "data": {
      "text/plain": [
       "<seaborn.axisgrid.JointGrid at 0x1fba11aaeb8>"
      ]
     },
     "execution_count": 151,
     "metadata": {},
     "output_type": "execute_result"
    },
    {
     "data": {
      "image/png": "[encoded data removed]",
      "text/plain": [
       "<Figure size 432x432 with 3 Axes>"
      ]
     },
     "metadata": {},
     "output_type": "display_data"
    }
   ],
   "source": [
    "# Set theme\n",
    "sns.set_style('darkgrid')\n",
    "\n",
    "sns.jointplot(x = \"acceptance_rate\",\n",
    "              y = \"yield_rate\",\n",
    "              data = viz_set,\n",
    "              kind=\"hex\",\n",
    "              color=\"#4CB391\")"
   ]
  },
  {
   "cell_type": "code",
   "execution_count": null,
   "metadata": {},
   "outputs": [],
   "source": []
  }
 ],
 "metadata": {
  "kernelspec": {
   "display_name": "Python 3",
   "language": "python",
   "name": "python3"
  },
  "language_info": {
   "codemirror_mode": {
    "name": "ipython",
    "version": 3
   },
   "file_extension": ".py",
   "mimetype": "text/x-python",
   "name": "python",
   "nbconvert_exporter": "python",
   "pygments_lexer": "ipython3",
   "version": "3.6.7"
  }
 },
 "nbformat": 4,
 "nbformat_minor": 2
}
